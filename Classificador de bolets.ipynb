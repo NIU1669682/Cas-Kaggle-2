{
 "cells": [
  {
   "cell_type": "code",
   "execution_count": 33,
   "metadata": {},
   "outputs": [],
   "source": [
    "import pandas as pd\n",
    "import matplotlib.pyplot as plt\n",
    "import numpy as np\n",
    "import scipy.stats as stats\n",
    "\n",
    "data = pd.read_csv('mushrooms.csv')"
   ]
  },
  {
   "cell_type": "markdown",
   "metadata": {},
   "source": [
    "# EDA. Anàlisi de les dades"
   ]
  },
  {
   "cell_type": "markdown",
   "metadata": {},
   "source": [
    "Per començar a treballar amb les dades, hem d'analitzar quin tipus d'informació tenim. Utilitzarem el mètode info() per obtenir una visió general i verificar si existeixen o no valors nuls."
   ]
  },
  {
   "cell_type": "code",
   "execution_count": 19,
   "metadata": {},
   "outputs": [
    {
     "name": "stdout",
     "output_type": "stream",
     "text": [
      "Informació general del dataset:\n",
      "<class 'pandas.core.frame.DataFrame'>\n",
      "RangeIndex: 8124 entries, 0 to 8123\n",
      "Data columns (total 23 columns):\n",
      " #   Column                    Non-Null Count  Dtype \n",
      "---  ------                    --------------  ----- \n",
      " 0   class                     8124 non-null   object\n",
      " 1   cap-shape                 8124 non-null   object\n",
      " 2   cap-surface               8124 non-null   object\n",
      " 3   cap-color                 8124 non-null   object\n",
      " 4   bruises                   8124 non-null   object\n",
      " 5   odor                      8124 non-null   object\n",
      " 6   gill-attachment           8124 non-null   object\n",
      " 7   gill-spacing              8124 non-null   object\n",
      " 8   gill-size                 8124 non-null   object\n",
      " 9   gill-color                8124 non-null   object\n",
      " 10  stalk-shape               8124 non-null   object\n",
      " 11  stalk-root                8124 non-null   object\n",
      " 12  stalk-surface-above-ring  8124 non-null   object\n",
      " 13  stalk-surface-below-ring  8124 non-null   object\n",
      " 14  stalk-color-above-ring    8124 non-null   object\n",
      " 15  stalk-color-below-ring    8124 non-null   object\n",
      " 16  veil-type                 8124 non-null   object\n",
      " 17  veil-color                8124 non-null   object\n",
      " 18  ring-number               8124 non-null   object\n",
      " 19  ring-type                 8124 non-null   object\n",
      " 20  spore-print-color         8124 non-null   object\n",
      " 21  population                8124 non-null   object\n",
      " 22  habitat                   8124 non-null   object\n",
      "dtypes: object(23)\n",
      "memory usage: 1.4+ MB\n",
      "\n",
      "Valors únics per cada columna:\n",
      "class: ['p' 'e']... (2 únics)\n",
      "cap-shape: ['x' 'b' 's' 'f' 'k']... (6 únics)\n",
      "cap-surface: ['s' 'y' 'f' 'g']... (4 únics)\n",
      "cap-color: ['n' 'y' 'w' 'g' 'e']... (10 únics)\n",
      "bruises: ['t' 'f']... (2 únics)\n",
      "odor: ['p' 'a' 'l' 'n' 'f']... (9 únics)\n",
      "gill-attachment: ['f' 'a']... (2 únics)\n",
      "gill-spacing: ['c' 'w']... (2 únics)\n",
      "gill-size: ['n' 'b']... (2 únics)\n",
      "gill-color: ['k' 'n' 'g' 'p' 'w']... (12 únics)\n",
      "stalk-shape: ['e' 't']... (2 únics)\n",
      "stalk-root: ['e' 'c' 'b' 'r' '?']... (5 únics)\n",
      "stalk-surface-above-ring: ['s' 'f' 'k' 'y']... (4 únics)\n",
      "stalk-surface-below-ring: ['s' 'f' 'y' 'k']... (4 únics)\n",
      "stalk-color-above-ring: ['w' 'g' 'p' 'n' 'b']... (9 únics)\n",
      "stalk-color-below-ring: ['w' 'p' 'g' 'b' 'n']... (9 únics)\n",
      "veil-type: ['p']... (1 únics)\n",
      "veil-color: ['w' 'n' 'o' 'y']... (4 únics)\n",
      "ring-number: ['o' 't' 'n']... (3 únics)\n",
      "ring-type: ['p' 'e' 'l' 'f' 'n']... (5 únics)\n",
      "spore-print-color: ['k' 'n' 'u' 'h' 'w']... (9 únics)\n",
      "population: ['s' 'n' 'a' 'v' 'y']... (6 únics)\n",
      "habitat: ['u' 'g' 'm' 'd' 'p']... (7 únics)\n"
     ]
    }
   ],
   "source": [
    "print(\"Informació general del dataset:\")\n",
    "data.info()\n",
    "\n",
    "print(\"\\nValors únics per cada columna:\")\n",
    "for col in data.columns:\n",
    "    print(f\"{col}: {data[col].unique()[:5]}... ({len(data[col].unique())} únics)\")"
   ]
  },
  {
   "cell_type": "markdown",
   "metadata": {},
   "source": [
    "En primera instància observem que tenim 8124 entrades i 23 columnes (totes categòriques), on les quals no trobem cap indici que tinguin valors nuls. Tot i això, més endavant, afegirem alguns valors nuls aleatòriament per veure com varia el nostre model. També podem veure els diferents valors únics de cada columna per observar quantes categories hi ha per cada columna i tenir una idea de la diversitat de dades que hi ha. La nostra columna objectiu es \"class\" la qual conté dues classes: e (comestible) i p (verinós):"
   ]
  },
  {
   "cell_type": "code",
   "execution_count": 20,
   "metadata": {},
   "outputs": [
    {
     "name": "stdout",
     "output_type": "stream",
     "text": [
      "Porcentatge de les classes:\n",
      "class\n",
      "e    51.797144\n",
      "p    48.202856\n",
      "Name: proportion, dtype: float64\n"
     ]
    },
    {
     "data": {
      "image/png": "[encoded data removed]",
      "text/plain": [
       "<Figure size 640x480 with 1 Axes>"
      ]
     },
     "metadata": {},
     "output_type": "display_data"
    }
   ],
   "source": [
    "print(\"Porcentatge de les classes:\")\n",
    "print(data['class'].value_counts(normalize=True)*100)\n",
    "\n",
    "data['class'].value_counts().plot(kind='bar', color=['green', 'red'])\n",
    "plt.title(\"Distribució de la columna 'class'\")\n",
    "plt.xlabel(\"Classe (e = comestible, p = verinós)\")\n",
    "plt.ylabel(\"Freqüència\")\n",
    "plt.show()"
   ]
  },
  {
   "cell_type": "markdown",
   "metadata": {},
   "source": [
    "El dataset està bastant balancejat, ja que les dues classes tenen una proporció molt semblant, així que no caldria cap mètode de balancejament."
   ]
  }
 ],
 "metadata": {
  "kernelspec": {
   "display_name": "base",
   "language": "python",
   "name": "python3"
  },
  "language_info": {
   "codemirror_mode": {
    "name": "ipython",
    "version": 3
   },
   "file_extension": ".py",
   "mimetype": "text/x-python",
   "name": "python",
   "nbconvert_exporter": "python",
   "pygments_lexer": "ipython3",
   "version": "3.11.7"
  }
 },
 "nbformat": 4,
 "nbformat_minor": 2
}
